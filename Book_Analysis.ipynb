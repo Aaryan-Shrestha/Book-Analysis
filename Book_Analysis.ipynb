{
 "cells": [
  {
   "cell_type": "markdown",
   "id": "07acea57-4dec-4d0a-b34c-2010dd3297b5",
   "metadata": {},
   "source": [
    "# Open the book"
   ]
  },
  {
   "cell_type": "code",
   "execution_count": 2,
   "id": "cc51dd2d-2b8d-4762-a665-9fe067935acc",
   "metadata": {},
   "outputs": [],
   "source": [
    "with open(\"miracle-in-the-andes.txt\", \"r\") as file:\n",
    "    book = file.read()"
   ]
  },
  {
   "cell_type": "code",
   "execution_count": 4,
   "id": "070dd779-1f5d-4360-8fb8-c22956fc82fa",
   "metadata": {},
   "outputs": [
    {
     "data": {
      "text/plain": [
       "str"
      ]
     },
     "execution_count": 4,
     "metadata": {},
     "output_type": "execute_result"
    }
   ],
   "source": [
    "type(book)"
   ]
  },
  {
   "cell_type": "markdown",
   "id": "3fd85dfd-9df0-47f1-bf0e-90e130950739",
   "metadata": {},
   "source": [
    "# How many chapters?"
   ]
  },
  {
   "cell_type": "markdown",
   "id": "620693a9-095c-4b66-9c32-83b98adf3f62",
   "metadata": {},
   "source": [
    "### With string methods"
   ]
  },
  {
   "cell_type": "code",
   "execution_count": 7,
   "id": "f4ced98d-6757-4ebc-9d4a-728c2f8b33e7",
   "metadata": {},
   "outputs": [
    {
     "data": {
      "text/plain": [
       "11"
      ]
     },
     "execution_count": 7,
     "metadata": {},
     "output_type": "execute_result"
    }
   ],
   "source": [
    "book.count(\"Chapter\")"
   ]
  },
  {
   "cell_type": "markdown",
   "id": "a5d01d18-7fc2-4991-966e-1dc159e62d02",
   "metadata": {},
   "source": [
    "### With regex"
   ]
  },
  {
   "cell_type": "code",
   "execution_count": 8,
   "id": "8d2acbca-a4e1-4153-a58d-f77f467f8a92",
   "metadata": {},
   "outputs": [],
   "source": [
    "import re"
   ]
  },
  {
   "cell_type": "code",
   "execution_count": 14,
   "id": "d34b3cc4-9146-462f-86e0-569e9a11fe67",
   "metadata": {},
   "outputs": [
    {
     "data": {
      "text/plain": [
       "['Chapter 1',\n",
       " 'Chapter 2',\n",
       " 'Chapter 3',\n",
       " 'Chapter 4',\n",
       " 'Chapter 5',\n",
       " 'Chapter 6',\n",
       " 'Chapter 7',\n",
       " 'Chapter 8',\n",
       " 'Chapter 9',\n",
       " 'Chapter 10']"
      ]
     },
     "execution_count": 14,
     "metadata": {},
     "output_type": "execute_result"
    }
   ],
   "source": [
    "pattern = re.compile('Chapter [0-9]+')\n",
    "re.findall(pattern, book)"
   ]
  },
  {
   "cell_type": "code",
   "execution_count": 15,
   "id": "6d950885-8a90-434d-8151-e0e44f6c9d29",
   "metadata": {},
   "outputs": [
    {
     "data": {
      "text/plain": [
       "10"
      ]
     },
     "execution_count": 15,
     "metadata": {},
     "output_type": "execute_result"
    }
   ],
   "source": [
    "findings = re.findall(pattern, book)\n",
    "len(findings)"
   ]
  },
  {
   "cell_type": "code",
   "execution_count": 16,
   "id": "ce90da23-00e2-462c-95e6-a8af0f26dba9",
   "metadata": {},
   "outputs": [],
   "source": [
    "string = re.compile(\"Chapter \")\n",
    "check =  re.findall(string, book)"
   ]
  },
  {
   "cell_type": "code",
   "execution_count": 17,
   "id": "ef152db6-5d74-417a-a977-fb54a46bd5b9",
   "metadata": {},
   "outputs": [
    {
     "data": {
      "text/plain": [
       "['Chapter ',\n",
       " 'Chapter ',\n",
       " 'Chapter ',\n",
       " 'Chapter ',\n",
       " 'Chapter ',\n",
       " 'Chapter ',\n",
       " 'Chapter ',\n",
       " 'Chapter ',\n",
       " 'Chapter ',\n",
       " 'Chapter ']"
      ]
     },
     "execution_count": 17,
     "metadata": {},
     "output_type": "execute_result"
    }
   ],
   "source": [
    "check"
   ]
  },
  {
   "cell_type": "code",
   "execution_count": 20,
   "id": "13a04c26-8286-4cd7-82b9-5e1d32011185",
   "metadata": {},
   "outputs": [
    {
     "data": {
      "text/plain": [
       "['Chapters']"
      ]
     },
     "execution_count": 20,
     "metadata": {},
     "output_type": "execute_result"
    }
   ],
   "source": [
    "pattern_of_characters = re.compile('Chapter[a-z]')\n",
    "findings1 = re.findall(pattern_of_characters, book)\n",
    "findings1"
   ]
  }
 ],
 "metadata": {
  "kernelspec": {
   "display_name": "Python 3 (ipykernel)",
   "language": "python",
   "name": "python3"
  },
  "language_info": {
   "codemirror_mode": {
    "name": "ipython",
    "version": 3
   },
   "file_extension": ".py",
   "mimetype": "text/x-python",
   "name": "python",
   "nbconvert_exporter": "python",
   "pygments_lexer": "ipython3",
   "version": "3.13.2"
  }
 },
 "nbformat": 4,
 "nbformat_minor": 5
}
